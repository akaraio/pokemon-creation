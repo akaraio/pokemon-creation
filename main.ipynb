{
 "cells": [
  {
   "cell_type": "code",
   "execution_count": null,
   "metadata": {
    "executionInfo": {
     "elapsed": 4656,
     "status": "ok",
     "timestamp": 1733503525732,
     "user": {
      "displayName": "akara",
      "userId": "03294495074658875410"
     },
     "user_tz": -120
    },
    "id": "eq79L243wq9G"
   },
   "outputs": [],
   "source": [
    "import tensorflow as tf\n",
    "from tensorflow import keras\n",
    "from tensorflow.keras.layers import Dense, Input, LeakyReLU, Dropout, BatchNormalization\n",
    "from tensorflow.keras.models import Model\n",
    "from tensorflow.keras.optimizers import SGD, Adam\n",
    "\n",
    "import pandas as pd\n",
    "import numpy as np\n",
    "import matplotlib.pyplot as plt\n",
    "import os"
   ]
  },
  {
   "cell_type": "code",
   "execution_count": 2,
   "metadata": {
    "executionInfo": {
     "elapsed": 2983,
     "status": "ok",
     "timestamp": 1733503528712,
     "user": {
      "displayName": "akara",
      "userId": "03294495074658875410"
     },
     "user_tz": -120
    },
    "id": "rJjtEeVHxK7p"
   },
   "outputs": [],
   "source": [
    "base_dir = 'data'\n",
    "pokemon_pictures = os.listdir(os.path.join(base_dir, \"pokemon_jpg\"))"
   ]
  },
  {
   "cell_type": "code",
   "execution_count": 3,
   "metadata": {
    "executionInfo": {
     "elapsed": 19286,
     "status": "ok",
     "timestamp": 1733503547995,
     "user": {
      "displayName": "akara",
      "userId": "03294495074658875410"
     },
     "user_tz": -120
    },
    "id": "FmcaQ7TzxXAK"
   },
   "outputs": [],
   "source": [
    "from PIL import ImageOps, Image\n",
    "size = 64, 64\n",
    "\n",
    "for f in os.listdir(os.path.join(base_dir, \"pokemon_jpg\")):\n",
    "    im = Image.open(os.path.join(base_dir, \"pokemon_jpg\", f)).resize(size)\n",
    "    break\n",
    "\n",
    "big_arr = np.array([np.array(im)]).reshape(1, 64, 64, 3)\n",
    "for f in os.listdir(os.path.join(base_dir,\"pokemon_jpg\"))[1:]:\n",
    "    big_arr = np.append(big_arr, [np.array(Image.open(os.path.join(base_dir, \"pokemon_jpg\", f)).resize(size)).reshape(64, 64, 3)], axis=0)\n",
    "\n",
    "big_arr = big_arr/255"
   ]
  },
  {
   "cell_type": "code",
   "execution_count": null,
   "metadata": {
    "colab": {
     "base_uri": "https://localhost:8080/",
     "height": 423
    },
    "executionInfo": {
     "elapsed": 11,
     "status": "ok",
     "timestamp": 1733503547995,
     "user": {
      "displayName": "akara",
      "userId": "03294495074658875410"
     },
     "user_tz": -120
    },
    "id": "ACV2XCbqx0Pi",
    "outputId": "f4df0b8b-7e9f-4156-f29c-35a82574065b"
   },
   "outputs": [],
   "source": [
    "X_train = big_arr[:600]\n",
    "X_test = big_arr[600:800]\n",
    "\n",
    "plt.imshow(big_arr[0])\n",
    "plt.axis('off')"
   ]
  },
  {
   "cell_type": "code",
   "execution_count": 5,
   "metadata": {
    "executionInfo": {
     "elapsed": 9,
     "status": "ok",
     "timestamp": 1733503547996,
     "user": {
      "displayName": "akara",
      "userId": "03294495074658875410"
     },
     "user_tz": -120
    },
    "id": "br3-8otuz61P"
   },
   "outputs": [],
   "source": [
    "N, H, W = X_train.shape[:-1]\n",
    "D = H *W\n",
    "# Flattening the data\n",
    "X_train = X_train.reshape(-1, D)\n",
    "X_test = X_test.reshape(-1, D)"
   ]
  },
  {
   "cell_type": "code",
   "execution_count": 6,
   "metadata": {
    "executionInfo": {
     "elapsed": 8,
     "status": "ok",
     "timestamp": 1733503547996,
     "user": {
      "displayName": "akara",
      "userId": "03294495074658875410"
     },
     "user_tz": -120
    },
    "id": "q36bMsPI0SBh"
   },
   "outputs": [],
   "source": [
    "latent_dim = 100 # Dimansinality of latent space"
   ]
  },
  {
   "cell_type": "code",
   "execution_count": 7,
   "metadata": {
    "executionInfo": {
     "elapsed": 8,
     "status": "ok",
     "timestamp": 1733503547996,
     "user": {
      "displayName": "akara",
      "userId": "03294495074658875410"
     },
     "user_tz": -120
    },
    "id": "zW8yX9BC0XCZ"
   },
   "outputs": [],
   "source": [
    "def build_generator(latent_dim):\n",
    "    i = Input(shape=(latent_dim,))\n",
    "    x = Dense(256, activation=LeakyReLU(alpha=0.2))(i)\n",
    "    x = BatchNormalization(momentum=0.8)(x)\n",
    "    x = Dense(512, activation=LeakyReLU(alpha=0.2))(x)\n",
    "    x = BatchNormalization(momentum=0.8)(x)\n",
    "    x = Dense(1024, activation=LeakyReLU(alpha=0.2))(x)\n",
    "    x = BatchNormalization(momentum=0.8)(x)\n",
    "    x = Dense(D, activation='tanh')(x) # -1 and 1 values used\n",
    "\n",
    "    model = Model(i, x)\n",
    "    return model"
   ]
  },
  {
   "cell_type": "code",
   "execution_count": 8,
   "metadata": {
    "executionInfo": {
     "elapsed": 7,
     "status": "ok",
     "timestamp": 1733503547996,
     "user": {
      "displayName": "akara",
      "userId": "03294495074658875410"
     },
     "user_tz": -120
    },
    "id": "nao4GFjs0deS"
   },
   "outputs": [],
   "source": [
    "def build_discriminator(img_size):\n",
    "    i = Input(shape=(img_size,))\n",
    "    x = Dense(512, activation=LeakyReLU(alpha=0.2))(i)\n",
    "    x = Dense(256, activation=LeakyReLU(alpha=0.2))(x)\n",
    "    x = Dense(1, activation='sigmoid')(x)\n",
    "\n",
    "    model = Model(i, x)\n",
    "    return model"
   ]
  },
  {
   "cell_type": "code",
   "execution_count": null,
   "metadata": {
    "colab": {
     "base_uri": "https://localhost:8080/"
    },
    "executionInfo": {
     "elapsed": 2922,
     "status": "ok",
     "timestamp": 1733503550911,
     "user": {
      "displayName": "akara",
      "userId": "03294495074658875410"
     },
     "user_tz": -120
    },
    "id": "FDIaJ18Q0d_K",
    "outputId": "e84eefb4-fd6c-4088-ff84-2e3b04c42dff"
   },
   "outputs": [],
   "source": [
    "discriminator = build_discriminator(D)\n",
    "discriminator.compile(loss='binary_crossentropy', optimizer=Adam(0.0002, 0.5), metrics=['accuracy'])\n",
    "\n",
    "generator = build_generator(latent_dim)\n",
    "\n",
    "# Create an input to represent noise sample from latent space\n",
    "z = Input(shape=(latent_dim,))\n",
    "\n",
    "# Pass noise to get image\n",
    "img = generator(z)\n",
    "\n",
    "# Making sure only generator is trainable\n",
    "discriminator.trainable = False\n",
    "\n",
    "# True output is fake yet we label as real\n",
    "fake_pred = discriminator(img)\n",
    "\n",
    "combined_model = Model(z, fake_pred)\n",
    "combined_model.compile(loss='binary_crossentropy', optimizer=Adam(0.0002, 0.5))"
   ]
  },
  {
   "cell_type": "code",
   "execution_count": 10,
   "metadata": {
    "executionInfo": {
     "elapsed": 6,
     "status": "ok",
     "timestamp": 1733503550912,
     "user": {
      "displayName": "akara",
      "userId": "03294495074658875410"
     },
     "user_tz": -120
    },
    "id": "v7TQkBMf0jWJ"
   },
   "outputs": [],
   "source": [
    "batch_size = 32\n",
    "epochs = 30000\n",
    "sample_period = 200 # Every step generate and save some data\n",
    "\n",
    "# Creating batch labels to use when calling train_on_batch\n",
    "ones = np.ones(batch_size)\n",
    "zeros = np.zeros(batch_size)\n",
    "\n",
    "# Storing loss\n",
    "d_losses = []\n",
    "g_losses = []\n",
    "\n",
    "if not os.path.exists('data'):\n",
    "    os.makedirs('data')"
   ]
  },
  {
   "cell_type": "code",
   "execution_count": 11,
   "metadata": {
    "executionInfo": {
     "elapsed": 5,
     "status": "ok",
     "timestamp": 1733503550912,
     "user": {
      "displayName": "akara",
      "userId": "03294495074658875410"
     },
     "user_tz": -120
    },
    "id": "Rjil9sST0jTD"
   },
   "outputs": [],
   "source": [
    "def sample_image(epochs):\n",
    "    rows, cols = 5, 5\n",
    "    noise = np.random.randn(rows * cols, latent_dim)\n",
    "    imgs = generator.predict(noise)\n",
    "\n",
    "    # Scaling images to 0-1\n",
    "    imgs = 0.5 * imgs + 0.5\n",
    "\n",
    "    fig, axs = plt.subplots(rows, cols)\n",
    "    idx = 0\n",
    "    for i in range(rows):\n",
    "        for j in range(cols):\n",
    "            axs[i, j].imshow(imgs[idx].reshape(H, W), cmap='gray')\n",
    "            axs[i, j].axis('off')\n",
    "            idx += 1\n",
    "    fig.savefig('data' %epochs)\n",
    "    plt.close()"
   ]
  },
  {
   "cell_type": "code",
   "execution_count": null,
   "metadata": {
    "colab": {
     "base_uri": "https://localhost:8080/"
    },
    "id": "7Fa6oGym0jQW",
    "outputId": "80ebfd67-d810-40d4-8f9a-4825c0eebf99"
   },
   "outputs": [],
   "source": [
    "# Training loop\n",
    "\n",
    "# Training discriminator\n",
    "for epoch in range(epochs):\n",
    "    idx = np.random.randint(0, X_train.shape[0], batch_size)\n",
    "    real_imgs = X_train[idx]\n",
    "\n",
    "    # Generate fake images\n",
    "    noise = np.random.randn(batch_size, latent_dim)\n",
    "    fake_imgs = generator.predict(noise)\n",
    "\n",
    "    d_loss_real, d_acc_real = discriminator.train_on_batch(real_imgs, ones)\n",
    "    d_loss_fake, d_acc_fake = discriminator.train_on_batch(fake_imgs, zeros)\n",
    "    d_loss = 0.5 * (d_loss_real + d_loss_fake)\n",
    "    d_acc = 0.5 * (d_acc_real + d_acc_fake)\n",
    "\n",
    "    # Train generator\n",
    "    noise = np.random.randn(batch_size, latent_dim)\n",
    "    g_loss = combined_model.train_on_batch(noise, ones)\n",
    "\n",
    "    d_losses.append(d_loss)\n",
    "    g_losses.append(g_loss)\n",
    "\n",
    "    if epoch % 100 == 0:\n",
    "        print((epoch+1)/epochs, d_loss, d_acc, g_loss)\n",
    "\n",
    "    if epoch % sample_period == 0:\n",
    "        sample_image(epoch)"
   ]
  }
 ],
 "metadata": {
  "accelerator": "GPU",
  "colab": {
   "authorship_tag": "ABX9TyOkZKH4FefmTkDaljfFyR2U",
   "gpuType": "T4",
   "mount_file_id": "1_soMJETgNbkordnp2Vu4UgiZJoaUYiY5",
   "provenance": []
  },
  "kernelspec": {
   "display_name": "Python 3",
   "name": "python3"
  },
  "language_info": {
   "name": "python",
   "version": "3.12.8"
  }
 },
 "nbformat": 4,
 "nbformat_minor": 0
}
